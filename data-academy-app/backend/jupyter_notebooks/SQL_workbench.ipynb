{
 "cells": [
  {
   "cell_type": "code",
   "execution_count": null,
   "id": "a83f464f-f00d-48fa-af56-afda905bd4bc",
   "metadata": {},
   "outputs": [],
   "source": [
    "%load_ext sql"
   ]
  },
  {
   "cell_type": "code",
   "execution_count": null,
   "id": "2b31df27-f743-47c5-b45c-8b5783f83e7c",
   "metadata": {},
   "outputs": [],
   "source": [
    "%sql postgresql+psycopg2://postgres:changethis@db:5432/app"
   ]
  },
  {
   "cell_type": "code",
   "execution_count": null,
   "id": "5341b924-8977-49a4-a47a-f337bf98e9a5",
   "metadata": {},
   "outputs": [],
   "source": [
    "%%sql\n",
    "select * from public.user;"
   ]
  },
  {
   "cell_type": "raw",
   "id": "21dec65f-daf3-483b-bc38-dfdcf6614141",
   "metadata": {},
   "source": [
    "From SwaggerUI:\n",
    "curl -X 'GET' \\\n",
    "  'http://localhost/api/v1/users/?skip=0&limit=100' \\\n",
    "  -H 'accept: application/json' \\\n",
    "  -H 'Authorization: Bearer XXX'\n",
    "[\n",
    "  {\n",
    "    \"email\": \"admin@na.com\",\n",
    "    \"is_active\": true,\n",
    "    \"is_superuser\": true,\n",
    "    \"full_name\": null,\n",
    "    \"id\": 1\n",
    "  }\n",
    "]"
   ]
  },
  {
   "cell_type": "code",
   "execution_count": null,
   "id": "bc4e4056-d3aa-4b53-a8b6-c7ba6e99ff93",
   "metadata": {},
   "outputs": [],
   "source": []
  }
 ],
 "metadata": {
  "kernelspec": {
   "display_name": "Python 3 (ipykernel)",
   "language": "python",
   "name": "python3"
  },
  "language_info": {
   "codemirror_mode": {
    "name": "ipython",
    "version": 3
   },
   "file_extension": ".py",
   "mimetype": "text/x-python",
   "name": "python",
   "nbconvert_exporter": "python",
   "pygments_lexer": "ipython3",
   "version": "3.9.7"
  }
 },
 "nbformat": 4,
 "nbformat_minor": 5
}
