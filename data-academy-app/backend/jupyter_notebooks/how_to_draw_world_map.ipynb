{
 "cells": [
  {
   "cell_type": "code",
   "execution_count": null,
   "id": "10426750-0fa7-4114-af35-91f5b8480eb2",
   "metadata": {},
   "outputs": [],
   "source": [
    "import pandas as pd\n",
    "pd.set_option('display.max_rows', 20)"
   ]
  },
  {
   "cell_type": "markdown",
   "id": "dfeb2960-d0c0-46d3-97e1-dbedd8c47e02",
   "metadata": {},
   "source": [
    "We first import from data.un.org the statistics of population in urban areas.\n",
    "If the link does not work anymore, feel free to use ./data/SYB61_253\n",
    "We rename the first column to Region or Country"
   ]
  },
  {
   "cell_type": "code",
   "execution_count": null,
   "id": "3337274b-fd89-46ee-ac4f-2f070da566a0",
   "metadata": {},
   "outputs": [],
   "source": [
    "statistic_df = pd.read_csv(\n",
    "    'https://data.un.org/_Docs/SYB/CSV/SYB61_253_Population%20Growth%20Rates%20in%20Urban%20areas%20and%20Capital%20cities.csv',\n",
    "    encoding='latin-1',\n",
    "    header=1,\n",
    "    usecols=range(1,9)\n",
    ")\n",
    "statistic_df.rename(columns = {\n",
    "    statistic_df.columns[0]: 'Region or Country', 'Value': 'Urban Percentage'\n",
    "}, inplace=True)"
   ]
  },
  {
   "cell_type": "markdown",
   "id": "5b893db7-9e2d-4477-9301-4ff8cd151947",
   "metadata": {},
   "source": [
    "After the import is done data cleaning operation are done.\n",
    "1. Filter out on Urban population (percent)\n",
    "2. For each Region or Country get the data for 2018"
   ]
  },
  {
   "cell_type": "code",
   "execution_count": null,
   "id": "7da6b933-4490-447f-a742-a6d2a7e22780",
   "metadata": {},
   "outputs": [],
   "source": [
    "series_filter = statistic_df['Series'] == 'Urban population (percent)'\n",
    "year_filter = statistic_df['Year'] == 2018\n",
    "urban_2018_df = statistic_df[series_filter & year_filter]\n",
    "urban_2018_df = urban_2018_df[['Region or Country', 'Urban Percentage']]\n",
    "urban_2018_df = urban_2018_df.astype({'Urban Percentage': 'float'})"
   ]
  },
  {
   "cell_type": "markdown",
   "id": "a3d56cb5-fb22-4ebc-bd8c-c33039800662",
   "metadata": {},
   "source": [
    "Before drawing the map we need to transform our pandas dataframe in a geopandas dataframe, in order to assign the positions on the map."
   ]
  },
  {
   "cell_type": "code",
   "execution_count": null,
   "id": "d7baf655-3978-49cd-8e84-8c21acce73aa",
   "metadata": {},
   "outputs": [],
   "source": [
    "import geopandas\n",
    "country_geopandas = geopandas.read_file(geopandas.datasets.get_path('naturalearth_lowres'))\n",
    "                                                                         "
   ]
  },
  {
   "cell_type": "markdown",
   "id": "6af561db-64e2-46b6-8071-14ebd1754a3c",
   "metadata": {},
   "source": [
    "Before merging the urban data with geopandas let's make a check on country names between geopandas and urban_2018_df.\n"
   ]
  },
  {
   "cell_type": "code",
   "execution_count": null,
   "id": "373637ea-5a02-485a-acf2-290b07e5cff3",
   "metadata": {},
   "outputs": [],
   "source": [
    "country_geopandas_country_list = country_geopandas['name'].tolist()"
   ]
  },
  {
   "cell_type": "code",
   "execution_count": null,
   "id": "67ed9d1e-6da3-4c67-8b12-41edef0c64ad",
   "metadata": {},
   "outputs": [],
   "source": [
    "urban_2018_country_list = urban_2018_df['Region or Country'].tolist()\n"
   ]
  },
  {
   "cell_type": "code",
   "execution_count": null,
   "id": "99f72b90-2cd1-49ac-8cf2-d845d3e7b6d3",
   "metadata": {},
   "outputs": [],
   "source": [
    "set(country_geopandas_country_list) - set(urban_2018_country_list)"
   ]
  },
  {
   "cell_type": "code",
   "execution_count": null,
   "id": "9dbbd8b5-7479-44c4-b630-7f5c8a33a5e9",
   "metadata": {},
   "outputs": [],
   "source": [
    "countries_to_correct = [\n",
    "    {'df_country_name': 'Czech Republic' , 'geo_country_name': 'Czechia'}\n",
    "]\n",
    "\n",
    "for country_to_correct in countries_to_correct:\n",
    "    filter = urban_2018_df['Region or Country'] == country_to_correct['df_country_name']\n",
    "    urban_2018_df.loc[filter, 'Region or Country'] = country_to_correct['geo_country_name']\n",
    "urban_2018_country_list = urban_2018_df['Region or Country'].tolist()"
   ]
  },
  {
   "cell_type": "code",
   "execution_count": null,
   "id": "5dad8d6e-f921-452a-baf3-d09cd3dfbaec",
   "metadata": {},
   "outputs": [],
   "source": [
    "country_geopandas = country_geopandas.merge(\n",
    "    urban_2018_df, \n",
    "    how='inner', left_on=['name'], right_on=['Region or Country']\n",
    ")"
   ]
  },
  {
   "cell_type": "markdown",
   "id": "034d91a0-7bad-4d4c-868a-7ee684258399",
   "metadata": {},
   "source": [
    "In this tutorial we will be using folium to draw the map. Read all about it here: https://python-visualization.github.io/folium/\n",
    "Let's check first the overlap on country names with folium"
   ]
  },
  {
   "cell_type": "code",
   "execution_count": null,
   "id": "d2fca01b-3d6b-4330-a98b-67fdd7ad936e",
   "metadata": {},
   "outputs": [],
   "source": [
    "import json\n",
    "import urllib.request\n",
    "import folium\n",
    "url = 'https://raw.githubusercontent.com/python-visualization/folium/main/examples/data/world-countries.json'\n",
    "data = urllib.request.urlopen(url).read()\n",
    "folium_country_json = json.loads(data)\n",
    "folium_country_list = [rec['properties']['name'] for rec in folium_country_json['features']]"
   ]
  },
  {
   "cell_type": "code",
   "execution_count": null,
   "id": "45d107bc-2e65-491c-8a71-eeea6e3d53e6",
   "metadata": {},
   "outputs": [],
   "source": [
    "country_geopandas_country_list = country_geopandas['name'].tolist()"
   ]
  },
  {
   "cell_type": "code",
   "execution_count": null,
   "id": "9378b48d-1747-4789-bf8b-978d4ac1a4b2",
   "metadata": {},
   "outputs": [],
   "source": [
    "len(set(country_geopandas_country_list) & set(folium_country_list))"
   ]
  },
  {
   "cell_type": "markdown",
   "id": "b5a19e9d-67be-4731-aab8-07e6cb73dc72",
   "metadata": {},
   "source": [
    "In folium data we have more than 170 countries. There seems to be a mismatch on more than 30 countries across the 3 data sources. You can clean the data as done above.\n",
    "Now on the drawing part!\n"
   ]
  },
  {
   "cell_type": "markdown",
   "id": "cb4c274f-99f6-4220-9852-65bc1ef8b32e",
   "metadata": {},
   "source": [
    "You can find here the variations of colors: https://github.com/python-visualization/branca/blob/master/branca/scheme_base_codes.json"
   ]
  },
  {
   "cell_type": "markdown",
   "id": "18b48d6a-7ac4-4795-9197-f97641eac2f5",
   "metadata": {},
   "source": [
    "Now that we cleaned the data (more or less, I leave up to you to refine it further, there are 17 countries missing) we can plot it and draw the map!\n",
    "First we need to make sure that we have in the urban_2018_df only the matching countries.\n"
   ]
  },
  {
   "cell_type": "code",
   "execution_count": null,
   "id": "8d4b3e39-36c2-477b-8af0-47ee2672ad78",
   "metadata": {},
   "outputs": [],
   "source": [
    "urban_area_map = folium.Map()\n",
    "folium.Choropleth(\n",
    "    geo_data=country_geopandas,\n",
    "    name='choropleth',\n",
    "    data=country_geopandas,\n",
    "    columns=['Region or Country', 'Urban Percentage'],\n",
    "    key_on='feature.properties.name',\n",
    "    fill_color='Greens',\n",
    "    nan_fill_color='Grey',\n",
    "    fill_opacity=0.7,\n",
    "    line_opacity=0.2,\n",
    "    legend_name='Percentage of population living in Urban areas'\n",
    ").add_to(urban_area_map)"
   ]
  },
  {
   "cell_type": "code",
   "execution_count": null,
   "id": "6e637433-4baa-4af6-9932-d71b43029342",
   "metadata": {},
   "outputs": [],
   "source": [
    "urban_area_map.save('urban_population_2018.html')"
   ]
  },
  {
   "cell_type": "code",
   "execution_count": null,
   "id": "dce68f94-ee4f-4600-895b-d5dc5efdb22a",
   "metadata": {},
   "outputs": [],
   "source": []
  }
 ],
 "metadata": {
  "kernelspec": {
   "display_name": "Python 3 (ipykernel)",
   "language": "python",
   "name": "python3"
  },
  "language_info": {
   "codemirror_mode": {
    "name": "ipython",
    "version": 3
   },
   "file_extension": ".py",
   "mimetype": "text/x-python",
   "name": "python",
   "nbconvert_exporter": "python",
   "pygments_lexer": "ipython3",
   "version": "3.9.7"
  }
 },
 "nbformat": 4,
 "nbformat_minor": 5
}
